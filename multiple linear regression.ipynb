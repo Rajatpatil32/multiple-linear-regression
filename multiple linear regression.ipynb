{
 "cells": [
  {
   "cell_type": "markdown",
   "metadata": {},
   "source": [
    "# Write a python program for Multiple Linear Regression and Check weather multicollinearity exits between the data or not."
   ]
  },
  {
   "cell_type": "markdown",
   "metadata": {},
   "source": [
    "### reading and converting in array"
   ]
  },
  {
   "cell_type": "code",
   "execution_count": 2,
   "metadata": {},
   "outputs": [],
   "source": [
    "import numpy as np\n",
    "import matplotlib.pyplot as plt\n",
    "import csv\n",
    "def read_csv(filename):\n",
    "    x1 = []\n",
    "    x2 = []\n",
    "    x3 = []\n",
    "    y = []\n",
    "    with open(filename) as f:\n",
    "        reader = csv.reader(f)\n",
    "        next(reader)\n",
    "        for row in reader:\n",
    "           # x.append((row))\n",
    "            x1.append(int(row[0]))\n",
    "            x2.append(int(row[1]))\n",
    "            x3.append(int(row[2]))\n",
    "            y.append(int(row[3]))\n",
    "        return x1,x2,x3,y\n",
    "if __name__ == '__main__':\n",
    "    x1,x2,x3,y = read_csv(r\"C:\\Users\\ddel\\R.csv\")"
   ]
  },
  {
   "cell_type": "code",
   "execution_count": 3,
   "metadata": {},
   "outputs": [
    {
     "name": "stdout",
     "output_type": "stream",
     "text": [
      "[[ 93  89  96  73  53  69  47  87  79  69  70  93  79  70  93  78  81  88\n",
      "   78  82  86  78  76  96]\n",
      " [ 88  91  98  66  46  74  56  79  70  70  65  95  80  73  89  75  90  92\n",
      "   83  86  82  83  83  93]\n",
      " [ 93  90 100  70  55  77  60  90  88  73  74  91  73  78  96  68  93  86\n",
      "   77  90  89  85  71  95]]\n"
     ]
    }
   ],
   "source": [
    "x = np.vstack((x1,x2,x3)) \n",
    "print(x)"
   ]
  },
  {
   "cell_type": "code",
   "execution_count": 4,
   "metadata": {},
   "outputs": [
    {
     "data": {
      "text/plain": [
       "array([[ 93,  88,  93],\n",
       "       [ 89,  91,  90],\n",
       "       [ 96,  98, 100],\n",
       "       [ 73,  66,  70],\n",
       "       [ 53,  46,  55],\n",
       "       [ 69,  74,  77],\n",
       "       [ 47,  56,  60],\n",
       "       [ 87,  79,  90],\n",
       "       [ 79,  70,  88],\n",
       "       [ 69,  70,  73],\n",
       "       [ 70,  65,  74],\n",
       "       [ 93,  95,  91],\n",
       "       [ 79,  80,  73],\n",
       "       [ 70,  73,  78],\n",
       "       [ 93,  89,  96],\n",
       "       [ 78,  75,  68],\n",
       "       [ 81,  90,  93],\n",
       "       [ 88,  92,  86],\n",
       "       [ 78,  83,  77],\n",
       "       [ 82,  86,  90],\n",
       "       [ 86,  82,  89],\n",
       "       [ 78,  83,  85],\n",
       "       [ 76,  83,  71],\n",
       "       [ 96,  93,  95]])"
      ]
     },
     "execution_count": 4,
     "metadata": {},
     "output_type": "execute_result"
    }
   ],
   "source": [
    "cov_mat1 = np.array(np.stack((x1,x2,x3), axis = 1))\n",
    "cov_mat1"
   ]
  },
  {
   "cell_type": "code",
   "execution_count": 5,
   "metadata": {},
   "outputs": [
    {
     "name": "stdout",
     "output_type": "stream",
     "text": [
      "[[ 93  88  93]\n",
      " [ 89  91  90]\n",
      " [ 96  98 100]\n",
      " [ 73  66  70]\n",
      " [ 53  46  55]\n",
      " [ 69  74  77]\n",
      " [ 47  56  60]\n",
      " [ 87  79  90]\n",
      " [ 79  70  88]\n",
      " [ 69  70  73]\n",
      " [ 70  65  74]\n",
      " [ 93  95  91]\n",
      " [ 79  80  73]\n",
      " [ 70  73  78]\n",
      " [ 93  89  96]\n",
      " [ 78  75  68]\n",
      " [ 81  90  93]\n",
      " [ 88  92  86]\n",
      " [ 78  83  77]\n",
      " [ 82  86  90]\n",
      " [ 86  82  89]\n",
      " [ 78  83  85]\n",
      " [ 76  83  71]\n",
      " [ 96  93  95]]\n"
     ]
    }
   ],
   "source": [
    "xT = x.transpose()\n",
    "print(xT)"
   ]
  },
  {
   "cell_type": "markdown",
   "metadata": {},
   "source": [
    "### β estimated"
   ]
  },
  {
   "cell_type": "code",
   "execution_count": 52,
   "metadata": {},
   "outputs": [
    {
     "name": "stdout",
     "output_type": "stream",
     "text": [
      "[[ 3.3203125   3.515625    3.27929688  6.70703125]\n",
      " [ 1.3125      1.5         1.1875      3.25      ]\n",
      " [-2.125      -2.1875     -2.         -5.        ]\n",
      " [-3.125      -3.375      -3.125      -6.75      ]\n",
      " [ 0.03125    -0.03125     0.015625    0.        ]\n",
      " [ 0.25        0.375       0.375       0.5       ]\n",
      " [-0.34375    -0.3125     -0.375      -0.4375    ]\n",
      " [ 0.25        0.3125      0.3125      0.5       ]\n",
      " [ 0.015625    0.          0.015625    0.25      ]\n",
      " [-0.1875     -0.125      -0.1875     -0.25      ]\n",
      " [-0.03125     0.09375     0.         -0.0625    ]\n",
      " [-0.03417969 -0.06054688 -0.04101562 -0.08789062]\n",
      " [-0.0546875  -0.078125   -0.0625     -0.125     ]\n",
      " [-0.09375    -0.21875    -0.09375    -0.1875    ]\n",
      " [ 0.015625    0.0625      0.          0.        ]\n",
      " [ 0.         -0.015625   -0.015625    0.03125   ]\n",
      " [ 0.015625    0.0078125   0.0078125   0.03125   ]\n",
      " [ 0.015625    0.0078125   0.          0.        ]\n",
      " [-0.0390625  -0.03125    -0.0390625  -0.046875  ]\n",
      " [ 0.0234375   0.03125     0.0234375   0.03125   ]\n",
      " [ 0.          0.0078125   0.015625   -0.015625  ]\n",
      " [ 0.015625    0.0078125  -0.01171875  0.0234375 ]\n",
      " [ 0.01171875  0.          0.01171875  0.0078125 ]\n",
      " [-0.01367188 -0.00976562 -0.01171875 -0.02734375]]\n"
     ]
    }
   ],
   "source": [
    "xTx = np.matmul(xT, x)\n",
    "xTx_inverse = np.linalg.inv(xTx)\n",
    "product_xTxy = np.matmul(xTx_inverse,xT)\n",
    "print(product_xTxy)"
   ]
  },
  {
   "cell_type": "markdown",
   "metadata": {},
   "source": [
    "### coffient correlation"
   ]
  },
  {
   "cell_type": "code",
   "execution_count": 7,
   "metadata": {},
   "outputs": [
    {
     "name": "stdout",
     "output_type": "stream",
     "text": [
      "The mean correlation =  0.9506439499838478\n"
     ]
    }
   ],
   "source": [
    "def calculatemean(numbers):\n",
    "    s= sum(numbers)\n",
    "    l = len(numbers)\n",
    "    return s/l\n",
    "def find_corr_x_y(x,y):\n",
    "    n = len(x)\n",
    "    # product sum\n",
    "    prod = []\n",
    "    for xi,yi in zip(x,y):\n",
    "        prod.append(xi*yi)\n",
    "    \n",
    "    sum_prod_x_y = sum(prod)\n",
    "    sum_x = sum(x)\n",
    "    sum_y = sum(y)\n",
    "    squared_sum_x = sum_x**2\n",
    "    squared_sum_y = sum_y**2\n",
    "    x_square = []\n",
    "    \n",
    "    for xi in x:\n",
    "        x_square.append(xi**2)\n",
    "    # Find the sum\n",
    "    x_square_sum = sum(x_square)\n",
    "    y_square=[]\n",
    "    \n",
    "    for yi in y:\n",
    "        y_square.append(yi**2)\n",
    "   \n",
    "    # sum\n",
    "    y_square_sum = sum(y_square)\n",
    "    \n",
    "    # calculating correlation\n",
    "    numerator = n*sum_prod_x_y - sum_x*sum_y\n",
    "    denominator_term1 = n*x_square_sum - squared_sum_x\n",
    "    denominator_term2 = n*y_square_sum - squared_sum_y\n",
    "    denominator = (denominator_term1*denominator_term2)**0.5\n",
    "    correlation = numerator/denominator\n",
    "\n",
    "    return correlation\n",
    "corr_mean = calculatemean((find_corr_x_y(x1,y),find_corr_x_y(x2,y),find_corr_x_y(x3,y)))\n",
    "print(\"The mean correlation = \",corr_mean)"
   ]
  },
  {
   "cell_type": "markdown",
   "metadata": {},
   "source": [
    "### cofficient of determination calculation R(squared)"
   ]
  },
  {
   "cell_type": "code",
   "execution_count": 8,
   "metadata": {},
   "outputs": [
    {
     "name": "stdout",
     "output_type": "stream",
     "text": [
      "cofficient of determnetion =  90.37239196408926 %\n"
     ]
    }
   ],
   "source": [
    "corr_determination = (corr_mean**2)*100\n",
    "print(\"cofficient of determnetion = \",corr_determination,\"%\")"
   ]
  },
  {
   "cell_type": "markdown",
   "metadata": {},
   "source": [
    "### multicolinearity_checking (vif)"
   ]
  },
  {
   "cell_type": "code",
   "execution_count": 9,
   "metadata": {},
   "outputs": [],
   "source": [
    "def mul_vif(x):\n",
    "    vif = 1/(1-(x)**2)\n",
    "    return vif"
   ]
  },
  {
   "cell_type": "code",
   "execution_count": 10,
   "metadata": {},
   "outputs": [
    {
     "name": "stdout",
     "output_type": "stream",
     "text": [
      "-0.00012245643849881057 \n",
      " multicolinearity not present\n"
     ]
    }
   ],
   "source": [
    "print(mul_vif(corr_determination),\"\\n multicolinearity not present\")"
   ]
  },
  {
   "cell_type": "markdown",
   "metadata": {},
   "source": [
    "### mean vector calculation"
   ]
  },
  {
   "cell_type": "code",
   "execution_count": 34,
   "metadata": {},
   "outputs": [],
   "source": [
    "mu_vec = []\n",
    "def meanVector(mat): \n",
    "    for i in range(24): \n",
    "        mean = 0.00 \n",
    "        sum = 0 \n",
    "        for j in range(4): \n",
    "            sum = sum + mat[j][i]\n",
    "        mean = int(sum /24) \n",
    "        mu_vec.append(int(sum /24))\n",
    "    return mea_vec"
   ]
  },
  {
   "cell_type": "code",
   "execution_count": 35,
   "metadata": {},
   "outputs": [
    {
     "data": {
      "text/plain": [
       "array([19, 18, 20, 14, 10, 15, 11, 17, 16, 14, 14, 19, 16, 15, 19, 15, 18,\n",
       "       18, 16, 18, 18, 17, 15, 19])"
      ]
     },
     "execution_count": 35,
     "metadata": {},
     "output_type": "execute_result"
    }
   ],
   "source": [
    "meanVector(x)\n",
    "mu_vec1 = np.array(mu_vec)\n",
    "mu_vec1"
   ]
  },
  {
   "cell_type": "markdown",
   "metadata": {},
   "source": [
    "### Pie chat for analysis of data"
   ]
  },
  {
   "cell_type": "code",
   "execution_count": 8,
   "metadata": {},
   "outputs": [
    {
     "data": {
      "image/png": "[encoded data removed]",
      "text/plain": [
       "<Figure size 432x288 with 1 Axes>"
      ]
     },
     "metadata": {},
     "output_type": "display_data"
    }
   ],
   "source": [
    "slices = [sum(x1), sum(x2), sum(x3), sum(y)]\n",
    "tasks = ['input 1', 'input 2', 'input 3', 'output']\n",
    " \n",
    "plt.pie(slices, labels=tasks, startangle=50,\n",
    "        autopct='%1.1f%%', explode=(0.1, 0.1, 0.1, 0))\n",
    " \n",
    "plt.title('multiple linear regression data visualising chart')\n",
    "plt.legend()\n",
    "plt.show()"
   ]
  },
  {
   "cell_type": "code",
   "execution_count": 16,
   "metadata": {},
   "outputs": [
    {
     "data": {
      "text/plain": [
       "array([[93,  0,  0,  0,  0,  0,  0,  0,  0,  0,  0,  0,  0,  0,  0,  0,\n",
       "         0,  0,  0,  0,  0,  0,  0,  0],\n",
       "       [88,  0,  0,  0,  0,  0,  0,  0,  0,  0,  0,  0,  0,  0,  0,  0,\n",
       "         0,  0,  0,  0,  0,  0,  0,  0],\n",
       "       [93,  0,  1,  0,  0,  0,  0,  0,  0,  0,  0,  0,  0,  0,  0,  0,\n",
       "         0,  0,  0,  0,  0,  0,  0,  0]])"
      ]
     },
     "execution_count": 16,
     "metadata": {},
     "output_type": "execute_result"
    }
   ],
   "source": [
    "Xnorm = x.copy()\n",
    "minx = np.min(x[:,1:])\n",
    "maxx = np.max(x[:,1:])\n",
    "Xnorm[:,1:] = (x[:,1:]-minx)/(maxx-minx)\n",
    "Xnorm[:10,:]"
   ]
  },
  {
   "cell_type": "code",
   "execution_count": 17,
   "metadata": {},
   "outputs": [
    {
     "data": {
      "text/plain": [
       "array([[46.5],\n",
       "       [44. ],\n",
       "       [47. ]])"
      ]
     },
     "execution_count": 17,
     "metadata": {},
     "output_type": "execute_result"
    }
   ],
   "source": [
    "theta0 = np.zeros((x.shape[1],1))+0.5\n",
    "Y_pred = Xnorm.dot(theta0)\n",
    "Y_pred"
   ]
  },
  {
   "cell_type": "markdown",
   "metadata": {},
   "source": [
    "### annova table"
   ]
  },
  {
   "cell_type": "code",
   "execution_count": 18,
   "metadata": {},
   "outputs": [],
   "source": [
    "DF_REG = 1\n",
    "DF_RES = len(x) - 2 \n",
    "DF_TOT = len(x) - 1\n",
    "############################################Sum of square\n",
    "m_y = np.mean(y)\n",
    "n = len(y)\n",
    "Y = np.array(y)\n",
    "error = Y - Y_pred\n",
    "################################################## SS Residual \n",
    "SS_res = np.sum(error**2)\n",
    "################################################### SS Regression\n",
    "SS_Reg = np.sum((Y_pred - m_y)**2)\n",
    "# ####################################################SS Total\n",
    "SS_total = np.sum((Y - m_y)**2)\n",
    "############################################### MS Residual\n",
    "MS_Res = SS_res/DF_RES\n",
    "############################################## S Regression\n",
    "MS_Reg = SS_Reg/DF_REG\n",
    "############################################ F Statistics\n",
    "F = MS_Reg/MS_Res"
   ]
  },
  {
   "cell_type": "code",
   "execution_count": 19,
   "metadata": {},
   "outputs": [],
   "source": [
    "def anova_table():\n",
    "    print('{0}\\t\\t{1}\\t\\t{2}\\t\\t\\t{3}\\t\\t\\t{4}'.format( \"Sources\",\"DF  \" , \"SS\" , \"MS\" , \"F statistics\"))\n",
    "    print('{0}\\t{1}\\t{2}\\t{3}\\t\\t{4}'.format( \"Regression\" ,DF_REG , SS_Reg , MS_Reg , F))\n",
    "    print('{0}\\t{1}\\t{2}\\t{3}'.format(\"Residual\",DF_RES , SS_res , MS_Res))\n",
    "    print('{0}\\t\\t{1}\\t{2}'.format(\"Total\",  DF_TOT , SS_total ))"
   ]
  },
  {
   "cell_type": "code",
   "execution_count": 20,
   "metadata": {},
   "outputs": [
    {
     "name": "stdout",
     "output_type": "stream",
     "text": [
      "Sources\t\tDF  \t\tSS\t\t\tMS\t\t\tF statistics\n",
      "Regression\t1\t40809.33854166667\t40809.33854166667\t\t0.039980385234220345\n",
      "Residual\t1\t1020734.0\t1020734.0\n",
      "Total\t\t2\t13769.958333333332\n"
     ]
    }
   ],
   "source": [
    "anova_table()"
   ]
  }
 ],
 "metadata": {
  "kernelspec": {
   "display_name": "Python 3",
   "language": "python",
   "name": "python3"
  },
  "language_info": {
   "codemirror_mode": {
    "name": "ipython",
    "version": 3
   },
   "file_extension": ".py",
   "mimetype": "text/x-python",
   "name": "python",
   "nbconvert_exporter": "python",
   "pygments_lexer": "ipython3",
   "version": "3.8.3"
  }
 },
 "nbformat": 4,
 "nbformat_minor": 4
}
